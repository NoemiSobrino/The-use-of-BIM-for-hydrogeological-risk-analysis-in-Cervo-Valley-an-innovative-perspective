{
 "cells": [
  {
   "cell_type": "code",
   "execution_count": 1,
   "id": "f93a12f2-caab-41fc-beb1-d3a3fda973e5",
   "metadata": {},
   "outputs": [
    {
     "name": "stdout",
     "output_type": "stream",
     "text": [
      "The slope between the two points is -36.35 degrees.\n"
     ]
    }
   ],
   "source": [
    "#Calculation of slope in degrees\n",
    "import math\n",
    "\n",
    "def distance(lat1, lon1, alt1, lat2, lon2, alt2):\n",
    "    # Converting latitudes and longitudes from degrees to radians\n",
    "    lat1_rad = math.radians(lat1)\n",
    "    lon1_rad = math.radians(lon1)\n",
    "    lat2_rad = math.radians(lat2)\n",
    "    lon2_rad = math.radians(lon2)\n",
    "    \n",
    "    # Earth's radius in meters\n",
    "    R = 6371000  # approximate radius of Earth in meters\n",
    "    \n",
    "    # Calculating differences\n",
    "    dlat = lat2_rad - lat1_rad\n",
    "    dlon = lon2_rad - lon1_rad\n",
    "    dz = alt2 - alt1\n",
    "    \n",
    "    # Haversine formula for distance calculation\n",
    "    a = math.sin(dlat/2) * math.sin(dlat/2) + math.cos(lat1_rad) * math.cos(lat2_rad) * math.sin(dlon/2) * math.sin(dlon/2)\n",
    "    c = 2 * math.atan2(math.sqrt(a), math.sqrt(1-a))\n",
    "    d = R * c\n",
    "    \n",
    "    return d, dz\n",
    "\n",
    "def slope(lat1, lon1, alt1, lat2, lon2, alt2):\n",
    "    distance_horiz, dz = distance(lat1, lon1, alt1, lat2, lon2, alt2)\n",
    "    \n",
    "    # Calculating slope\n",
    "    if distance_horiz != 0:\n",
    "        slope_ratio = dz / distance_horiz\n",
    "        slope_degrees = math.degrees(math.atan(slope_ratio))\n",
    "        return slope_degrees\n",
    "    else:\n",
    "        return float('inf')  # Infinite slope when distance is zero\n",
    "\n",
    "# Example usage\n",
    "lat1, lon1, alt1 = 45.6653138573, 7.9463431119, 1658.16003418\n",
    "lat2, lon2, alt2 = 45.6641889384, 7.9463642173, 1566.08801270\n",
    "\n",
    "slope_value = slope(lat1, lon1, alt1, lat2, lon2, alt2)\n",
    "print(\"The slope between the two points is {:.2f} degrees.\".format(slope_value))\n"
   ]
  },
  {
   "cell_type": "code",
   "execution_count": 2,
   "id": "4043b3ce-3a5e-43eb-897d-d033d95d3973",
   "metadata": {},
   "outputs": [
    {
     "name": "stdout",
     "output_type": "stream",
     "text": [
      "The slope between the two points is 73.43%.\n"
     ]
    }
   ],
   "source": [
    "#Calculation of slope in percentages\n",
    "import math\n",
    "\n",
    "def distance(lat1, lon1, alt1, lat2, lon2, alt2):\n",
    "    # Converting latitudes and longitudes from degrees to radians\n",
    "    lat1_rad = math.radians(lat1)\n",
    "    lon1_rad = math.radians(lon1)\n",
    "    lat2_rad = math.radians(lat2)\n",
    "    lon2_rad = math.radians(lon2)\n",
    "    \n",
    "    # Earth's radius in meters\n",
    "    R = 6371000  # approximate radius of Earth in meters\n",
    "    \n",
    "    # Calculating differences\n",
    "    dlat = lat2_rad - lat1_rad\n",
    "    dlon = lon2_rad - lon1_rad\n",
    "    dz = alt2 - alt1\n",
    "    \n",
    "    # Haversine formula for distance calculation\n",
    "    a = math.sin(dlat/2) * math.sin(dlat/2) + math.cos(lat1_rad) * math.cos(lat2_rad) * math.sin(dlon/2) * math.sin(dlon/2)\n",
    "    c = 2 * math.atan2(math.sqrt(a), math.sqrt(1-a))\n",
    "    d = R * c\n",
    "    \n",
    "    return d, dz\n",
    "\n",
    "def slope_percentage(lat1, lon1, alt1, lat2, lon2, alt2):\n",
    "    distance_horiz, dz = distance(lat1, lon1, alt1, lat2, lon2, alt2)\n",
    "    \n",
    "    # Calculating slope percentage\n",
    "    if distance_horiz != 0:\n",
    "        slope_percentage = (dz / distance_horiz) * 100\n",
    "        return slope_percentage\n",
    "    else:\n",
    "        return float('inf')  # Infinite slope when distance is zero\n",
    "\n",
    "# Esempio di utilizzo\n",
    "lat1, lon1, alt1 = 45.6641859784, 7.9460433450, 1589.00805664\n",
    "lat2, lon2, alt2 = 45.6653108971, 7.9460222331, 1680.85998535\n",
    "\n",
    "pendenza_percentuale = slope_percentage(lat1, lon1, alt1, lat2, lon2, alt2)\n",
    "print(\"The slope between the two points is {:.2f}%.\".format(pendenza_percentuale))\n"
   ]
  },
  {
   "cell_type": "code",
   "execution_count": null,
   "id": "bf93665f-7334-4039-b0ae-e05676e7b0e1",
   "metadata": {},
   "outputs": [],
   "source": []
  }
 ],
 "metadata": {
  "kernelspec": {
   "display_name": "Python 3 (ipykernel)",
   "language": "python",
   "name": "python3"
  },
  "language_info": {
   "codemirror_mode": {
    "name": "ipython",
    "version": 3
   },
   "file_extension": ".py",
   "mimetype": "text/x-python",
   "name": "python",
   "nbconvert_exporter": "python",
   "pygments_lexer": "ipython3",
   "version": "3.11.7"
  }
 },
 "nbformat": 4,
 "nbformat_minor": 5
}
