{
 "cells": [
  {
   "cell_type": "code",
   "execution_count": 1,
   "id": "deca44a7-f938-49ad-a1bc-5a5acdf2dfd4",
   "metadata": {},
   "outputs": [
    {
     "name": "stdout",
     "output_type": "stream",
     "text": [
      "Assegnazione delle elevazioni per C:\\Users\\noemi\\Dropbox (Politecnico Di Torino Studenti)\\Magistrale\\II anno_UGent\\Thesis\\QGIS_PYTHON\\DTM+BDTRE_QGIS\\Punti di Rilevazione\\Pluviometers\\BIELLA_Pluviometer.shp completata e file salvato correttamente.\n",
      "Assegnazione delle elevazioni per C:\\Users\\noemi\\Dropbox (Politecnico Di Torino Studenti)\\Magistrale\\II anno_UGent\\Thesis\\QGIS_PYTHON\\DTM+BDTRE_QGIS\\Punti di Rilevazione\\Pluviometers\\PIEDICAVALLO_Pluviometer.shp completata e file salvato correttamente.\n",
      "\n",
      "Assegnazione delle elevazioni completata e file salvato correttamente.\n"
     ]
    }
   ],
   "source": [
    "import geopandas as gpd\n",
    "import rasterio\n",
    "from rasterio.features import geometry_mask\n",
    "import numpy as np\n",
    "from shapely.geometry import shape, mapping\n",
    "import os\n",
    "\n",
    "# Function to sample the raster along a geometry\n",
    "def sample_raster(raster, geom):\n",
    "    # Transform the geometry into a boolean matrix (mask)\n",
    "    mask = geometry_mask([geom], out_shape=raster.shape, transform=raster.transform, invert=False)\n",
    "    # Sample the raster using the mask\n",
    "    values = raster.read(1, masked=True)\n",
    "    sampled_values = values[mask]\n",
    "    return sampled_values\n",
    "\n",
    "# Function to assign elevations to a shapefile\n",
    "def assign_elevations(shapefile_path, raster):\n",
    "    # Load the shapefile\n",
    "    gdf = gpd.read_file(shapefile_path)\n",
    "    \n",
    "    # Sample the raster along the geometries of the shapefile\n",
    "    elevations = []\n",
    "    for idx, row in gdf.iterrows():\n",
    "        geom = row['geometry']\n",
    "        sampled_values = sample_raster(raster, geom)\n",
    "        if len(sampled_values) > 0:\n",
    "            # Calculate the mean of the sampled values\n",
    "            elevation = np.nanmean(sampled_values)\n",
    "            elevations.append(elevation)\n",
    "        else:\n",
    "            elevations.append(np.nan)\n",
    "\n",
    "    # Add the elevations to the shapefile dataframe\n",
    "    gdf['elevation'] = elevations\n",
    "\n",
    "    # Save the new shapefile with the assigned elevations\n",
    "    output_shapefile_path = os.path.splitext(shapefile_path)[0] + '_with_elevations.shp'\n",
    "    gdf.to_file(output_shapefile_path)\n",
    "\n",
    "    print(f\"Elevation assignment for {shapefile_path} completed and file saved successfully.\")\n",
    "\n",
    "# Path to the raster file\n",
    "rasterfile_path = r\"C:\\Users\\noemi\\Dropbox (Politecnico Di Torino Studenti)\\Magistrale\\II anno_UGent\\Thesis\\QGIS_PYTHON\\DTM+BDTRE_QGIS\\DTM\\DTM5\\DTM5 Cervo Valley.tif\"\n",
    "\n",
    "# Load the raster\n",
    "raster = rasterio.open(rasterfile_path)\n",
    "\n",
    "# Path to the folder containing the input shapefiles\n",
    "input_folder = r\"C:\\Users\\noemi\\Dropbox (Politecnico Di Torino Studenti)\\Magistrale\\II anno_UGent\\Thesis\\QGIS_PYTHON\\DTM+BDTRE_QGIS\\Punti di Rilevazione\\Pluviometers\"\n",
    "\n",
    "# Process each input file  \n",
    "for filename in os.listdir(input_folder):\n",
    "    if filename.endswith('.shp'):\n",
    "        shapefile_path = os.path.join(input_folder, filename)\n",
    "        assign_elevations(shapefile_path, raster)\n",
    "\n",
    "# Close the raster\n",
    "raster.close()\n",
    "print(\"\\nElevations assigned correctly and file correctly saved.\")"
   ]
  },
  {
   "cell_type": "code",
   "execution_count": null,
   "id": "51aec626",
   "metadata": {},
   "outputs": [],
   "source": []
  }
 ],
 "metadata": {
  "kernelspec": {
   "display_name": "Python 3 (ipykernel)",
   "language": "python",
   "name": "python3"
  },
  "language_info": {
   "codemirror_mode": {
    "name": "ipython",
    "version": 3
   },
   "file_extension": ".py",
   "mimetype": "text/x-python",
   "name": "python",
   "nbconvert_exporter": "python",
   "pygments_lexer": "ipython3",
   "version": "3.11.7"
  }
 },
 "nbformat": 4,
 "nbformat_minor": 5
}
